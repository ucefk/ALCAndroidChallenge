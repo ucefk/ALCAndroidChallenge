{
  "nbformat": 4,
  "nbformat_minor": 0,
  "metadata": {
    "colab": {
      "name": "model_1",
      "provenance": [],
      "collapsed_sections": [
        "yhcbfimhuJwE"
      ],
      "authorship_tag": "ABX9TyNmaiqYTHuekTwtvN7UCw31",
      "include_colab_link": true
    },
    "kernelspec": {
      "name": "python3",
      "display_name": "Python 3"
    },
    "accelerator": "GPU"
  },
  "cells": [
    {
      "cell_type": "markdown",
      "metadata": {
        "id": "view-in-github",
        "colab_type": "text"
      },
      "source": [
        "<a href=\"https://colab.research.google.com/github/ucefk/ALCAndroidChallenge/blob/master/Models/model_1.ipynb\" target=\"_parent\"><img src=\"https://colab.research.google.com/assets/colab-badge.svg\" alt=\"Open In Colab\"/></a>"
      ]
    },
    {
      "cell_type": "markdown",
      "metadata": {
        "id": "M6kKr1NEiUEC"
      },
      "source": [
        "# **Import Libraries**"
      ]
    },
    {
      "cell_type": "code",
      "metadata": {
        "id": "-XatM9sIfPgd"
      },
      "source": [
        "import numpy as np\n",
        "\n",
        "import matplotlib.pyplot as plt\n",
        "\n",
        "import tensorflow as tf\n",
        "from tensorflow.keras.models import Sequential\n",
        "from tensorflow.keras.layers import Dense, Flatten, Dropout, Activation, Conv2D, MaxPooling2D\n",
        "from tensorflow.keras.optimizers import RMSprop, Adam\n",
        "from tensorflow.keras.preprocessing import image\n",
        "\n",
        "from tensorflow.keras.layers import Input\n",
        "from tensorflow.keras.models import Model\n",
        "\n",
        "import pickle\n",
        "\n",
        "import os\n",
        "\n",
        "import random\n",
        "\n",
        "from google.colab import drive"
      ],
      "execution_count": null,
      "outputs": []
    },
    {
      "cell_type": "markdown",
      "metadata": {
        "id": "X3mN2aWW1y0_"
      },
      "source": [
        "# **Mounting Drive**"
      ]
    },
    {
      "cell_type": "code",
      "metadata": {
        "id": "3_PmrezFz95b",
        "outputId": "1aee0095-a948-4eb4-e192-36054597ba59",
        "colab": {
          "base_uri": "https://localhost:8080/",
          "height": 34
        }
      },
      "source": [
        "drive.mount('/gdrive')\n",
        "os.symlink('/gdrive/My Drive', '/content/gdrive')"
      ],
      "execution_count": null,
      "outputs": [
        {
          "output_type": "stream",
          "text": [
            "Mounted at /gdrive\n"
          ],
          "name": "stdout"
        }
      ]
    },
    {
      "cell_type": "markdown",
      "metadata": {
        "id": "ZcrL6qd9idu9"
      },
      "source": [
        "# **Import Data**"
      ]
    },
    {
      "cell_type": "markdown",
      "metadata": {
        "id": "a3DQJGneZfLo"
      },
      "source": [
        "## **Process data**\n",
        "Create own data distribution (with own shuffle)"
      ]
    },
    {
      "cell_type": "code",
      "metadata": {
        "id": "QGL6gQOHmI5G"
      },
      "source": [
        "# setting the path to the pickle files saved  (grayscale images)\n",
        "benign_link = \"/content/gdrive/Copy of BCD/Breast Cancer Detection/Pickle files of images/GRAYSCALE IMAGES ARRAY/benign.pickle\"\n",
        "\n",
        "malign_link = \"/content/gdrive/Copy of BCD/Breast Cancer Detection/Pickle files of images/GRAYSCALE IMAGES ARRAY/malign.pickle\""
      ],
      "execution_count": null,
      "outputs": []
    },
    {
      "cell_type": "code",
      "metadata": {
        "id": "VjLxEcrSl3m9"
      },
      "source": [
        "# opening pickle files (grayscale images)\n",
        "pickle_in = open(benign_link, \"rb\")\n",
        "benign_data = pickle.load(pickle_in)\n",
        "\n",
        "pickle_in = open(malign_link, \"rb\")\n",
        "malign_data = pickle.load(pickle_in)"
      ],
      "execution_count": null,
      "outputs": []
    },
    {
      "cell_type": "code",
      "metadata": {
        "id": "cmlbv-nKJcAD"
      },
      "source": [
        "# shuffle the data\n",
        "random.shuffle(benign_data)\n",
        "random.shuffle(malign_data)"
      ],
      "execution_count": null,
      "outputs": []
    },
    {
      "cell_type": "code",
      "metadata": {
        "id": "X4ACdWpegQ8Y"
      },
      "source": [
        "# splitting and merging the data from benign and malign arrays\n",
        "\n",
        "# split eg. train_per = 0.7 --> 70% train data, 30% test data\n",
        "train_per = 0.7\n",
        "\n",
        "trn_b = int(len(benign_data) * train_per)\n",
        "\n",
        "trn_m = int(len(malign_data) * train_per)\n",
        "\n",
        "train_data = benign_data[: trn_b].copy() + malign_data[: trn_m].copy()\n",
        "\n",
        "test_data = benign_data[trn_b :].copy() + malign_data[trn_m :].copy()"
      ],
      "execution_count": null,
      "outputs": []
    },
    {
      "cell_type": "code",
      "metadata": {
        "id": "IImICxJTjSYb"
      },
      "source": [
        "# shuffle train and test data\n",
        "random.shuffle(train_data)\n",
        "random.shuffle(test_data)"
      ],
      "execution_count": null,
      "outputs": []
    },
    {
      "cell_type": "code",
      "metadata": {
        "id": "etRLOt8RiKXD"
      },
      "source": [
        "assert len(train_data + test_data) == len(benign_data + malign_data)"
      ],
      "execution_count": null,
      "outputs": []
    },
    {
      "cell_type": "code",
      "metadata": {
        "id": "Rmst7DXKibRU"
      },
      "source": [
        "# separating the features and labels\n",
        "\n",
        "X_train = []\n",
        "y_train = []\n",
        "\n",
        "X_test = []\n",
        "y_test = []\n",
        "\n",
        "for X, y in train_data:\n",
        "  X_train.append(X)\n",
        "  y_train.append(y)\n",
        "\n",
        "for X, y in test_data:\n",
        "  X_test.append(X)\n",
        "  y_test.append(y)\n"
      ],
      "execution_count": null,
      "outputs": []
    },
    {
      "cell_type": "code",
      "metadata": {
        "id": "D_SwLZ_Mjkwr"
      },
      "source": [
        "# reshaping \n",
        "\n",
        "num_channels = 1 # depend whether you're using rgb or grayscale images\n",
        "\n",
        "IMG_SIZE = len(X_train[0])\n",
        "\n",
        "X_train = np.array(X_train).reshape(-1, IMG_SIZE, IMG_SIZE, num_channels)\n",
        "\n",
        "y_train = np.array(y_train).reshape(-1)\n",
        "\n",
        "IMG_SIZE = len(X_test[0])\n",
        "\n",
        "X_test = np.array(X_test).reshape(-1, IMG_SIZE, IMG_SIZE, num_channels)\n",
        "\n",
        "y_test = np.array(y_test).reshape(-1)"
      ],
      "execution_count": null,
      "outputs": []
    },
    {
      "cell_type": "code",
      "metadata": {
        "id": "H6VcUqG-lDYT",
        "outputId": "728036d9-f7e2-4e7e-be5d-e7cc1c7622a1",
        "colab": {
          "base_uri": "https://localhost:8080/",
          "height": 50
        }
      },
      "source": [
        "print(X_train.shape)\n",
        "print(X_test.shape)"
      ],
      "execution_count": null,
      "outputs": [
        {
          "output_type": "stream",
          "text": [
            "(2791, 100, 100, 1)\n",
            "(1197, 100, 100, 1)\n"
          ],
          "name": "stdout"
        }
      ]
    },
    {
      "cell_type": "markdown",
      "metadata": {
        "id": "f38sLk8quBIC"
      },
      "source": [
        "**Scaling**"
      ]
    },
    {
      "cell_type": "code",
      "metadata": {
        "id": "kGGxNQ-Lz-jB"
      },
      "source": [
        "X_train = X_train / 255\n",
        "X_test = X_test / 255"
      ],
      "execution_count": null,
      "outputs": []
    },
    {
      "cell_type": "markdown",
      "metadata": {
        "id": "rbQK8nZZak-H"
      },
      "source": [
        "## **Import processed data**\n",
        "Use the same data distribution"
      ]
    },
    {
      "cell_type": "code",
      "metadata": {
        "id": "Bvp4tPgscBa_"
      },
      "source": [
        "# setting the path to the pickle files saved  (grayscale images)\n",
        "X_train_link = \"/content/gdrive/Copy of BCD/Breast Cancer Detection/Pickle files of images/GRAYSCALE IMAGES ARRAY/X_train.pickle\"\n",
        "\n",
        "y_train_link = \"/content/gdrive/Copy of BCD/Breast Cancer Detection/Pickle files of images/GRAYSCALE IMAGES ARRAY/y_train.pickle\"\n",
        "\n",
        "X_test_link = \"/content/gdrive/Copy of BCD/Breast Cancer Detection/Pickle files of images/GRAYSCALE IMAGES ARRAY/X_test.pickle\"\n",
        "\n",
        "y_test_link = \"/content/gdrive/Copy of BCD/Breast Cancer Detection/Pickle files of images/GRAYSCALE IMAGES ARRAY/y_test.pickle\""
      ],
      "execution_count": null,
      "outputs": []
    },
    {
      "cell_type": "code",
      "metadata": {
        "id": "3EZVWFNobyN7"
      },
      "source": [
        "pickle_in = open(X_train_link, \"rb\")\n",
        "X_train = pickle.load(pickle_in)\n",
        "\n",
        "pickle_in = open(y_train_link, \"rb\")\n",
        "y_train = pickle.load(pickle_in)\n",
        "\n",
        "pickle_in = open(X_test_link, \"rb\")\n",
        "X_test = pickle.load(pickle_in)\n",
        "\n",
        "pickle_in = open(y_test_link, \"rb\")\n",
        "y_test = pickle.load(pickle_in)"
      ],
      "execution_count": null,
      "outputs": []
    },
    {
      "cell_type": "markdown",
      "metadata": {
        "id": "cIBc1D1Yt0pm"
      },
      "source": [
        "# **Setting up models**"
      ]
    },
    {
      "cell_type": "code",
      "metadata": {
        "id": "Fm9QuYQAvAsB"
      },
      "source": [
        "num_channels = 1"
      ],
      "execution_count": null,
      "outputs": []
    },
    {
      "cell_type": "markdown",
      "metadata": {
        "id": "yhcbfimhuJwE"
      },
      "source": [
        "### **model**"
      ]
    },
    {
      "cell_type": "code",
      "metadata": {
        "id": "jObIrtDK-n-H"
      },
      "source": [
        "model = tf.keras.models.Sequential(\n",
        "    [\n",
        "     \n",
        "     Conv2D(16, (3,3), padding='same', activation='relu', input_shape=(100,100,num_channels)),\n",
        "     MaxPooling2D(2,2),\n",
        "\n",
        "     Conv2D(32, (3,3), padding='same', activation='relu'),\n",
        "     MaxPooling2D(2,2),\n",
        "\n",
        "     Flatten(),\n",
        "\n",
        "     Dense(512, activation='relu'),\n",
        "\n",
        "     Dense(1, activation='sigmoid')\n",
        "     \n",
        "    ]\n",
        ")"
      ],
      "execution_count": null,
      "outputs": []
    },
    {
      "cell_type": "code",
      "metadata": {
        "id": "qqMZ_c-T-n7a",
        "outputId": "29530ab4-9b92-4f84-e51f-23f613846f81",
        "colab": {
          "base_uri": "https://localhost:8080/"
        }
      },
      "source": [
        "model.summary()"
      ],
      "execution_count": null,
      "outputs": [
        {
          "output_type": "stream",
          "text": [
            "Model: \"sequential_10\"\n",
            "_________________________________________________________________\n",
            "Layer (type)                 Output Shape              Param #   \n",
            "=================================================================\n",
            "conv2d_20 (Conv2D)           (None, 100, 100, 16)      160       \n",
            "_________________________________________________________________\n",
            "max_pooling2d_20 (MaxPooling (None, 50, 50, 16)        0         \n",
            "_________________________________________________________________\n",
            "conv2d_21 (Conv2D)           (None, 50, 50, 32)        4640      \n",
            "_________________________________________________________________\n",
            "max_pooling2d_21 (MaxPooling (None, 25, 25, 32)        0         \n",
            "_________________________________________________________________\n",
            "flatten_13 (Flatten)         (None, 20000)             0         \n",
            "_________________________________________________________________\n",
            "dense_27 (Dense)             (None, 512)               10240512  \n",
            "_________________________________________________________________\n",
            "dense_28 (Dense)             (None, 1)                 513       \n",
            "=================================================================\n",
            "Total params: 10,245,825\n",
            "Trainable params: 10,245,825\n",
            "Non-trainable params: 0\n",
            "_________________________________________________________________\n"
          ],
          "name": "stdout"
        }
      ]
    },
    {
      "cell_type": "code",
      "metadata": {
        "id": "Xjb5XbD6-n4Y"
      },
      "source": [
        "model.compile(\n",
        "    loss = 'binary_crossentropy',\n",
        "    optimizer = Adam(),\n",
        "    metrics = ['acc']\n",
        ")"
      ],
      "execution_count": null,
      "outputs": []
    },
    {
      "cell_type": "code",
      "metadata": {
        "id": "PpiaonjN-n1f",
        "outputId": "409ed464-8638-4393-904e-3b37a83c63d3",
        "colab": {
          "base_uri": "https://localhost:8080/"
        }
      },
      "source": [
        "result = model.fit(\n",
        "    x = X_train,\n",
        "    y = y_train,\n",
        "    batch_size = 32,\n",
        "    epochs = 15,\n",
        "    validation_split = 0.1,\n",
        "    verbose = 2\n",
        ")"
      ],
      "execution_count": null,
      "outputs": [
        {
          "output_type": "stream",
          "text": [
            "Epoch 1/15\n",
            "79/79 - 1s - loss: 0.6105 - acc: 0.7025 - val_loss: 0.5698 - val_acc: 0.7143\n",
            "Epoch 2/15\n",
            "79/79 - 1s - loss: 0.4440 - acc: 0.8025 - val_loss: 0.4876 - val_acc: 0.7929\n",
            "Epoch 3/15\n",
            "79/79 - 1s - loss: 0.3840 - acc: 0.8395 - val_loss: 0.5324 - val_acc: 0.7393\n",
            "Epoch 4/15\n",
            "79/79 - 1s - loss: 0.3372 - acc: 0.8519 - val_loss: 0.4573 - val_acc: 0.8071\n",
            "Epoch 5/15\n",
            "79/79 - 1s - loss: 0.3122 - acc: 0.8638 - val_loss: 0.4082 - val_acc: 0.8321\n",
            "Epoch 6/15\n",
            "79/79 - 1s - loss: 0.2743 - acc: 0.8789 - val_loss: 0.4478 - val_acc: 0.8250\n",
            "Epoch 7/15\n",
            "79/79 - 1s - loss: 0.2440 - acc: 0.8988 - val_loss: 0.4532 - val_acc: 0.8179\n",
            "Epoch 8/15\n",
            "79/79 - 1s - loss: 0.2370 - acc: 0.8961 - val_loss: 0.4580 - val_acc: 0.8393\n",
            "Epoch 9/15\n",
            "79/79 - 1s - loss: 0.2195 - acc: 0.9028 - val_loss: 0.4046 - val_acc: 0.8393\n",
            "Epoch 10/15\n",
            "79/79 - 1s - loss: 0.1861 - acc: 0.9188 - val_loss: 0.6576 - val_acc: 0.8321\n",
            "Epoch 11/15\n",
            "79/79 - 1s - loss: 0.1851 - acc: 0.9287 - val_loss: 0.4292 - val_acc: 0.8393\n",
            "Epoch 12/15\n",
            "79/79 - 1s - loss: 0.1491 - acc: 0.9383 - val_loss: 0.5659 - val_acc: 0.8536\n",
            "Epoch 13/15\n",
            "79/79 - 1s - loss: 0.1388 - acc: 0.9466 - val_loss: 0.4484 - val_acc: 0.8214\n",
            "Epoch 14/15\n",
            "79/79 - 1s - loss: 0.1374 - acc: 0.9395 - val_loss: 0.5832 - val_acc: 0.8464\n",
            "Epoch 15/15\n",
            "79/79 - 1s - loss: 0.1000 - acc: 0.9614 - val_loss: 0.6009 - val_acc: 0.8429\n"
          ],
          "name": "stdout"
        }
      ]
    },
    {
      "cell_type": "code",
      "metadata": {
        "id": "ZIO6YiSN-nvf",
        "outputId": "dd420e26-5206-4ba1-e756-9b88883bddca",
        "colab": {
          "base_uri": "https://localhost:8080/"
        }
      },
      "source": [
        "# Plotting the accuracy of \"model\"\n",
        "plt.plot(result.history['acc'])\n",
        "plt.plot(result.history['val_acc'])\n",
        "plt.title('model accuracy')\n",
        "plt.ylabel('accuracy')\n",
        "plt.xlabel('epoch')\n",
        "plt.legend(['train', 'validation'], loc='upper left')\n",
        "plt.show()\n",
        "\n",
        "# Loss of \"model\"\n",
        "plt.plot(result.history['loss'])\n",
        "plt.plot(result.history['val_loss'])\n",
        "plt.title('model loss')\n",
        "plt.ylabel('loss')\n",
        "plt.xlabel('epoch')\n",
        "plt.legend(['train', 'validation'], loc='upper left')\n",
        "plt.show()\n"
      ],
      "execution_count": null,
      "outputs": [
        {
          "output_type": "display_data",
          "data": {
            "image/png": "[encoded data removed]",
            "text/plain": [
              "<Figure size 432x288 with 1 Axes>"
            ]
          },
          "metadata": {
            "tags": [],
            "needs_background": "light"
          }
        },
        {
          "output_type": "display_data",
          "data": {
            "image/png": "[encoded data removed]",
            "text/plain": [
              "<Figure size 432x288 with 1 Axes>"
            ]
          },
          "metadata": {
            "tags": [],
            "needs_background": "light"
          }
        }
      ]
    }
  ]
}